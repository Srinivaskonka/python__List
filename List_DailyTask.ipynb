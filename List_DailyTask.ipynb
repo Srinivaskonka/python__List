{
 "cells": [
  {
   "cell_type": "code",
   "execution_count": 3,
   "id": "2bc2577d-fa1b-4c19-bff0-8a45a4de3d32",
   "metadata": {},
   "outputs": [
    {
     "name": "stdout",
     "output_type": "stream",
     "text": [
      " the output of fruits[2] :  cherry\n"
     ]
    }
   ],
   "source": [
    "#1\n",
    "fruits = ['apple', 'banana', 'cherry', 'date']\n",
    "print(\" the output of fruits[2] : \",fruits[2])"
   ]
  },
  {
   "cell_type": "code",
   "execution_count": 6,
   "id": "b773b00f-6256-40c2-ac6d-e49c5cf88f8b",
   "metadata": {},
   "outputs": [
    {
     "name": "stdout",
     "output_type": "stream",
     "text": [
      "the first three elements using slicing :  [10, 20, 30]\n"
     ]
    }
   ],
   "source": [
    "#2\n",
    "numbers = [10, 20, 30, 40, 50]\n",
    "print (\"the first three elements using slicing : \",numbers[0:3])\n"
   ]
  },
  {
   "cell_type": "code",
   "execution_count": 8,
   "id": "480c2303-0bd7-422a-90d6-3fe4a1d499e0",
   "metadata": {},
   "outputs": [
    {
     "name": "stdout",
     "output_type": "stream",
     "text": [
      "['green', 'blue']\n"
     ]
    }
   ],
   "source": [
    "#3\n",
    "colors = ['red', 'green', 'blue', 'yellow']\n",
    "print(colors[1:3])"
   ]
  },
  {
   "cell_type": "code",
   "execution_count": 60,
   "id": "0a349be8-65d1-4ea7-bbc5-b02a7aa2f083",
   "metadata": {},
   "outputs": [
    {
     "data": {
      "text/plain": [
       "[5, 6]"
      ]
     },
     "execution_count": 60,
     "metadata": {},
     "output_type": "execute_result"
    }
   ],
   "source": [
    "#4\n",
    "#Create a list with 6 elements and extract the last 2 elements using positive slicing only\n",
    "x=[1,2,3,4,5,6]\n",
    "x[4:6]"
   ]
  },
  {
   "cell_type": "code",
   "execution_count": 9,
   "id": "8669d848-2a69-4e2b-924a-015ee0237a65",
   "metadata": {},
   "outputs": [
    {
     "data": {
      "text/plain": [
       "['pen', 'pencil', 'eraser', 'sharpener']"
      ]
     },
     "execution_count": 9,
     "metadata": {},
     "output_type": "execute_result"
    }
   ],
   "source": [
    "#5\n",
    "items = ['pen', 'pencil', 'eraser', 'sharpener', 'scale']\n",
    "print(items[:4])"
   ]
  },
  {
   "cell_type": "code",
   "execution_count": 11,
   "id": "723e7dde-eba0-43a5-a1fa-f1f7d175d0bd",
   "metadata": {},
   "outputs": [
    {
     "name": "stdout",
     "output_type": "stream",
     "text": [
      "['hammer', 'wrench', 'screwdriver']\n"
     ]
    }
   ],
   "source": [
    "#6\n",
    "tools = ['hammer', 'wrench'] \n",
    "tools.append ('screwdriver')\n",
    "print(tools)"
   ]
  },
  {
   "cell_type": "code",
   "execution_count": 14,
   "id": "dceea1b9-244e-4cd0-a096-2bec98c6ef4e",
   "metadata": {},
   "outputs": [
    {
     "name": "stdout",
     "output_type": "stream",
     "text": [
      "[0, [1, 2]]\n"
     ]
    }
   ],
   "source": [
    "#7\n",
    "data = [0]\n",
    "data.append([1, 2])\n",
    "print(data)"
   ]
  },
  {
   "cell_type": "code",
   "execution_count": 24,
   "id": "7318eadd-0b9a-4936-b1fd-a0f4ece5fcff",
   "metadata": {},
   "outputs": [
    {
     "name": "stdout",
     "output_type": "stream",
     "text": [
      " 3 times use append to get this : ['hello', 'hello', 'hello']\n"
     ]
    }
   ],
   "source": [
    "#8\n",
    "words = []\n",
    "words.append('hello')\n",
    "# ['hello', 'hello', 'hello']\n",
    "words.append('hello')\n",
    "words.append('hello')\n",
    "print(\" 3 times use append to get this :\",words)"
   ]
  },
  {
   "cell_type": "code",
   "execution_count": 32,
   "id": "623a7049-7fc4-414b-8633-891f6df1a441",
   "metadata": {},
   "outputs": [
    {
     "name": "stdout",
     "output_type": "stream",
     "text": [
      " using index position to insert the value: [1, 2, 3, 4, 5]\n"
     ]
    }
   ],
   "source": [
    "#9\n",
    "nums = [1, 2, 4, 5]\n",
    "nums.insert(2,3)\n",
    "print(\" using index position to insert the value:\",nums)"
   ]
  },
  {
   "cell_type": "code",
   "execution_count": 34,
   "id": "20772e26-869f-4f07-a95b-2dad08515ebe",
   "metadata": {},
   "outputs": [
    {
     "name": "stdout",
     "output_type": "stream",
     "text": [
      " What does the list become ['a', 'b', 'c', 'd']\n"
     ]
    }
   ],
   "source": [
    "#10\n",
    "letters = ['a', 'b', 'd']\n",
    "letters.insert(2,'c')\n",
    "print(\" What does the list become\",letters)"
   ]
  },
  {
   "cell_type": "code",
   "execution_count": 35,
   "id": "fca1a3dc-5a0b-46f4-83ea-560a86e77f59",
   "metadata": {},
   "outputs": [
    {
     "data": {
      "text/plain": [
       "[10, 15, 20, 30]"
      ]
     },
     "execution_count": 35,
     "metadata": {},
     "output_type": "execute_result"
    }
   ],
   "source": [
    "#11\n",
    "nums = [10, 20, 30]\n",
    "nums.insert(1, 15) \n",
    "nums"
   ]
  },
  {
   "cell_type": "code",
   "execution_count": 37,
   "id": "d78e5a0a-9942-443f-adda-d4a706ffa675",
   "metadata": {},
   "outputs": [
    {
     "name": "stdout",
     "output_type": "stream",
     "text": [
      "what is a.count(2) :  3\n"
     ]
    }
   ],
   "source": [
    "#12\n",
    "a = [1, 2, 2, 3, 2]\n",
    "print(\"what is a.count(2) : \",a.count(2))"
   ]
  },
  {
   "cell_type": "code",
   "execution_count": 39,
   "id": "9d1b9864-e0ef-45c6-8dea-825bae140911",
   "metadata": {},
   "outputs": [
    {
     "name": "stdout",
     "output_type": "stream",
     "text": [
      "how many times does 'cat' appear :  2\n"
     ]
    }
   ],
   "source": [
    "#13\n",
    "items = ['cat', 'dog', 'cat', 'fish']\n",
    "print('''how many times does 'cat' appear : ''',items.count(\"cat\"))"
   ]
  },
  {
   "cell_type": "code",
   "execution_count": 40,
   "id": "83faa9a9-f27a-4b6d-b17e-afcd1f558d83",
   "metadata": {},
   "outputs": [
    {
     "data": {
      "text/plain": [
       "3"
      ]
     },
     "execution_count": 40,
     "metadata": {},
     "output_type": "execute_result"
    }
   ],
   "source": [
    "#14\n",
    "x= ['a', 'b', 'a', 'a']\n",
    "x.count('a')"
   ]
  },
  {
   "cell_type": "code",
   "execution_count": 46,
   "id": "03944f11-0d8f-45c3-9a5c-daafcc56297f",
   "metadata": {},
   "outputs": [
    {
     "data": {
      "text/plain": [
       "['h', 'e', 'l', 'l', 'o']"
      ]
     },
     "execution_count": 46,
     "metadata": {},
     "output_type": "execute_result"
    }
   ],
   "source": [
    "#15\n",
    "x='hello'\n",
    "x1=list(x)\n",
    "x1"
   ]
  },
  {
   "cell_type": "code",
   "execution_count": 43,
   "id": "63e1bd8d-6c94-4cde-a71d-0ade26328ff1",
   "metadata": {},
   "outputs": [
    {
     "data": {
      "text/plain": [
       "[1, 2, 3]"
      ]
     },
     "execution_count": 43,
     "metadata": {},
     "output_type": "execute_result"
    }
   ],
   "source": [
    "#16\n",
    "list((1, 2, 3))"
   ]
  },
  {
   "cell_type": "code",
   "execution_count": 44,
   "id": "e43b7243-12c0-4e60-b84d-a1cf51680a3c",
   "metadata": {},
   "outputs": [
    {
     "data": {
      "text/plain": [
       "[10, 20, 30]"
      ]
     },
     "execution_count": 44,
     "metadata": {},
     "output_type": "execute_result"
    }
   ],
   "source": [
    "#17\n",
    "\n",
    "x= {10, 20, 30} \n",
    "x1=list(x)\n",
    "x1"
   ]
  },
  {
   "cell_type": "code",
   "execution_count": 47,
   "id": "52eb37e3-0e7d-4512-988d-a77e54fe9589",
   "metadata": {},
   "outputs": [
    {
     "data": {
      "text/plain": [
       "3"
      ]
     },
     "execution_count": 47,
     "metadata": {},
     "output_type": "execute_result"
    }
   ],
   "source": [
    "#18\n",
    "x=[[1, 2], [3, 4]]\n",
    "#How do you access the number 3\n",
    "x[1][0]       # using slicing to get the value"
   ]
  },
  {
   "cell_type": "code",
   "execution_count": 48,
   "id": "05afd712-ac54-4dd5-87da-3652e3955803",
   "metadata": {},
   "outputs": [
    {
     "data": {
      "text/plain": [
       "40"
      ]
     },
     "execution_count": 48,
     "metadata": {},
     "output_type": "execute_result"
    }
   ],
   "source": [
    "#19\n",
    "matrix = [[10, 20], [30, 40]]\n",
    "matrix[1][1]"
   ]
  },
  {
   "cell_type": "code",
   "execution_count": 49,
   "id": "8453866c-406f-41e0-9af9-39294a0962a5",
   "metadata": {},
   "outputs": [
    {
     "data": {
      "text/plain": [
       "'d'"
      ]
     },
     "execution_count": 49,
     "metadata": {},
     "output_type": "execute_result"
    }
   ],
   "source": [
    "#20\n",
    "nested = [['a', 'b'], ['c', 'd']]\n",
    "nested[1][1]"
   ]
  },
  {
   "cell_type": "code",
   "execution_count": 51,
   "id": "aa8a5268-f8cd-4191-a17f-c1715c9e3aff",
   "metadata": {},
   "outputs": [
    {
     "data": {
      "text/plain": [
       "[0, 1, 2, 3, 4]"
      ]
     },
     "execution_count": 51,
     "metadata": {},
     "output_type": "execute_result"
    }
   ],
   "source": [
    "#21\n",
    "x = [1, 2, 3]\n",
    "x.append(4)\n",
    "x.insert(0,0)\n",
    "x"
   ]
  },
  {
   "cell_type": "code",
   "execution_count": 53,
   "id": "9cd49348-019a-4364-b06c-52a67ae7de5c",
   "metadata": {},
   "outputs": [
    {
     "name": "stdout",
     "output_type": "stream",
     "text": [
      "count how many times 'z' appears 1\n"
     ]
    }
   ],
   "source": [
    "#22\n",
    "a = ['x', 'y']\n",
    "a.append( 'z') \n",
    "print(\"count how many times 'z' appears :\",a.count(\"z\"))\n"
   ]
  },
  {
   "cell_type": "code",
   "execution_count": 54,
   "id": "9773f904-84e0-4f1d-be90-7fe95eba44f5",
   "metadata": {},
   "outputs": [
    {
     "data": {
      "text/plain": [
       "['two', 'three']"
      ]
     },
     "execution_count": 54,
     "metadata": {},
     "output_type": "execute_result"
    }
   ],
   "source": [
    "#23\n",
    "data = ['one', 'two', 'three']\n",
    "data[1:]"
   ]
  },
  {
   "cell_type": "code",
   "execution_count": 56,
   "id": "773d1295-5620-4bfb-bb42-590f18783669",
   "metadata": {},
   "outputs": [
    {
     "data": {
      "text/plain": [
       "['first']"
      ]
     },
     "execution_count": 56,
     "metadata": {},
     "output_type": "execute_result"
    }
   ],
   "source": [
    "#24\n",
    "a = []\n",
    "a.insert(0,'first')\n",
    "a"
   ]
  },
  {
   "cell_type": "code",
   "execution_count": 59,
   "id": "770b9e3a-e15d-4381-a3b1-b2406467b752",
   "metadata": {},
   "outputs": [
    {
     "ename": "TypeError",
     "evalue": "list.append() takes exactly one argument (2 given)",
     "output_type": "error",
     "traceback": [
      "\u001b[0;31m---------------------------------------------------------------------------\u001b[0m",
      "\u001b[0;31mTypeError\u001b[0m                                 Traceback (most recent call last)",
      "Cell \u001b[0;32mIn[59], line 3\u001b[0m\n\u001b[1;32m      1\u001b[0m \u001b[38;5;66;03m#25\u001b[39;00m\n\u001b[1;32m      2\u001b[0m nums \u001b[38;5;241m=\u001b[39m [\u001b[38;5;241m100\u001b[39m, \u001b[38;5;241m200\u001b[39m, \u001b[38;5;241m300\u001b[39m]\n\u001b[0;32m----> 3\u001b[0m nums\u001b[38;5;241m.\u001b[39mappend(\u001b[38;5;241m400\u001b[39m, \u001b[38;5;241m500\u001b[39m)\n\u001b[1;32m      4\u001b[0m nums\n",
      "\u001b[0;31mTypeError\u001b[0m: list.append() takes exactly one argument (2 given)"
     ]
    }
   ],
   "source": [
    "#25\n",
    "nums = [100, 200, 300]\n",
    "nums.append(400, 500)\n",
    "nums"
   ]
  },
  {
   "cell_type": "code",
   "execution_count": null,
   "id": "ae12fa9c-a641-443d-8d42-e97a26ca9804",
   "metadata": {},
   "outputs": [],
   "source": []
  }
 ],
 "metadata": {
  "kernelspec": {
   "display_name": "Python [conda env:base] *",
   "language": "python",
   "name": "conda-base-py"
  },
  "language_info": {
   "codemirror_mode": {
    "name": "ipython",
    "version": 3
   },
   "file_extension": ".py",
   "mimetype": "text/x-python",
   "name": "python",
   "nbconvert_exporter": "python",
   "pygments_lexer": "ipython3",
   "version": "3.13.5"
  }
 },
 "nbformat": 4,
 "nbformat_minor": 5
}
